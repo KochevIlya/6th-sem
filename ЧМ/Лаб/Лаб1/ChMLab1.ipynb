{
  "cells": [
    {
      "cell_type": "markdown",
      "metadata": {
        "id": "zyNIEWln9-X1"
      },
      "source": [
        "Графическое отделение корня уравнения"
      ]
    },
    {
      "cell_type": "code",
      "execution_count": 1,
      "metadata": {
        "id": "RYq7nlngBOiH"
      },
      "outputs": [],
      "source": [
        "def f(x):\n",
        "    return 10 ** x - 5 * x - 2"
      ]
    },
    {
      "cell_type": "code",
      "execution_count": null,
      "metadata": {
        "colab": {
          "base_uri": "https://localhost:8080/",
          "height": 472
        },
        "id": "UMRMJRfi9250",
        "outputId": "cd4d3462-87e9-4dec-a430-15b0bfc0b2f0"
      },
      "outputs": [
        {
          "data": {
            "image/png": "[encoded data removed]",
            "text/plain": [
              "<Figure size 640x480 with 1 Axes>"
            ]
          },
          "metadata": {},
          "output_type": "display_data"
        }
      ],
      "source": [
        "import numpy as np\n",
        "import matplotlib.pyplot as plt\n",
        "\n",
        "x = np.linspace(-2, 0.5, 400)\n",
        "y = f(x)\n",
        "\n",
        "plt.plot(x, y, label='f(x) = 10^x - 5x - 2 ')\n",
        "plt.axhline(0, color='black', linestyle='--', label='y=0')\n",
        "plt.title('График функции f(x)')\n",
        "plt.xlabel('x')\n",
        "plt.ylabel('f(x)')\n",
        "plt.legend()\n",
        "plt.grid()\n",
        "plt.show()"
      ]
    },
    {
      "cell_type": "markdown",
      "metadata": {
        "id": "hfQspulH_cbC"
      },
      "source": [
        "Метод дихотомии"
      ]
    },
    {
      "cell_type": "code",
      "execution_count": 3,
      "metadata": {
        "id": "5lo7ePAz_fHd"
      },
      "outputs": [],
      "source": [
        "def bisection_method(a, b, eps):\n",
        "    if (f(a) * f(b) > 0):\n",
        "        raise ValueError(\"f(a) and f(b) should have different sign\")\n",
        "\n",
        "    data = []\n",
        "    k = 0\n",
        "    while abs(b - a) > 2 * eps:\n",
        "        m = (a + b) / 2.0\n",
        "\n",
        "        data.append((k, a, b, f(a), f(b), b - a))\n",
        "        k += 1\n",
        "        if f(m) == 0:\n",
        "            return m, data\n",
        "        elif f(a) * f(m) < 0:\n",
        "            b = m\n",
        "        else:\n",
        "            a = m\n",
        "\n",
        "    data.append((k, a, b, f(a), f(b), b - a))\n",
        "    return (a + b) / 2.0, k, data"
      ]
    },
    {
      "cell_type": "markdown",
      "metadata": {
        "id": "odylf9nAAfKB"
      },
      "source": [
        "Запустим метод дихотомии для нахождения корня с точностью ϵ = 10^-2."
      ]
    },
    {
      "cell_type": "code",
      "execution_count": 4,
      "metadata": {
        "colab": {
          "base_uri": "https://localhost:8080/"
        },
        "id": "PoEuT_hyA6mT",
        "outputId": "e1061149-28de-4664-9d00-3a6b514e4ab8"
      },
      "outputs": [
        {
          "name": "stdout",
          "output_type": "stream",
          "text": [
            "Корень: -0.3046875, Итерации: 7\n"
          ]
        }
      ],
      "source": [
        "a, b = -2, 0\n",
        "eps = 0.01\n",
        "root, iterations, data = bisection_method(a, b, eps)\n",
        "print(f\"Корень: {root}, Итерации: {iterations}\")"
      ]
    },
    {
      "cell_type": "code",
      "execution_count": 5,
      "metadata": {
        "colab": {
          "base_uri": "https://localhost:8080/"
        },
        "id": "nOwRnUimLhEy",
        "outputId": "5b76efb9-c04b-41de-ed56-013479a65dce"
      },
      "outputs": [
        {
          "name": "stdout",
          "output_type": "stream",
          "text": [
            "\n",
            "Таблица 1: Результаты работы метода дихотомии\n",
            "k     a_k        b_k        f(a_k)     f(b_k)       b_k - a_k \n",
            "0     -2.00000   0.00000    8.01000    -1.00000     2.00000   \n",
            "1     -1.00000   0.00000    3.10000    -1.00000     1.00000   \n",
            "2     -0.50000   0.00000    0.81623    -1.00000     0.50000   \n",
            "3     -0.50000   -0.25000   0.81623    -0.18766     0.25000   \n",
            "4     -0.37500   -0.25000   0.29670    -0.18766     0.12500   \n",
            "5     -0.31250   -0.25000   0.04947    -0.18766     0.06250   \n",
            "6     -0.31250   -0.28125   0.04947    -0.07045     0.03125   \n",
            "7     -0.31250   -0.29688   0.04947    -0.01082     0.01562   \n"
          ]
        }
      ],
      "source": [
        "print(\"\\nТаблица 1: Результаты работы метода дихотомии\")\n",
        "print(f\"{'k':<5} {'a_k':<10} {'b_k':<10} {'f(a_k)':<10} {'f(b_k)':<12} {'b_k - a_k':<10}\")\n",
        "for row in data:\n",
        "    print(f\"{row[0]:<5} {row[1]:<10.5f} {row[2]:<10.5f} {row[3]:<10.5f} {row[4]:<12.5f} {row[5]:<10.5f}\")\n"
      ]
    },
    {
      "cell_type": "markdown",
      "metadata": {
        "id": "UmGHglIGE2cJ"
      },
      "source": [
        "Заведем функцию производной"
      ]
    },
    {
      "cell_type": "code",
      "execution_count": 6,
      "metadata": {
        "id": "V8wKNW_mBUI-"
      },
      "outputs": [],
      "source": [
        "def df(x):\n",
        "    return np.log(10) * 10 ** x - 5"
      ]
    },
    {
      "cell_type": "code",
      "execution_count": 7,
      "metadata": {
        "id": "YjjHPyszOGv-"
      },
      "outputs": [],
      "source": [
        "res = []"
      ]
    },
    {
      "cell_type": "markdown",
      "metadata": {
        "id": "CMIuCzXxFGYM"
      },
      "source": [
        "Метода Ньютона с постоянной производной"
      ]
    },
    {
      "cell_type": "code",
      "execution_count": 8,
      "metadata": {
        "id": "-yLy2I_VFYQ6"
      },
      "outputs": [],
      "source": [
        "def newton_method_constant_derivative(x0, eps):\n",
        "    xk = x0\n",
        "    mu = df(x0)\n",
        "    if mu == 0:\n",
        "        raise ValueError(\"Производная равна нулю в начальной точке\")\n",
        "    k = 0\n",
        "\n",
        "    while True:\n",
        "        \n",
        "        xk1 = xk - f(xk) / mu\n",
        "        k += 1\n",
        "\n",
        "        \n",
        "        res.append((k, xk, abs(xk1 - xk)))\n",
        "\n",
        "       \n",
        "        if abs(xk1 - xk) < eps:\n",
        "            return xk1, k\n",
        "\n",
        "       \n",
        "        xk = xk1"
      ]
    },
    {
      "cell_type": "code",
      "execution_count": 9,
      "metadata": {
        "colab": {
          "base_uri": "https://localhost:8080/"
        },
        "id": "bOOA1P8gFLLr",
        "outputId": "5520768f-c118-4c8b-863e-301cba4617c6"
      },
      "outputs": [
        {
          "name": "stdout",
          "output_type": "stream",
          "text": [
            "Метода Ньютона с постоянной производной: Корень: -0.2996912896881474, Итерации: 10\n"
          ]
        }
      ],
      "source": [
        "x0 = -1\n",
        "epsilon = 1e-7\n",
        "\n",
        "root, iterations = newton_method_constant_derivative(x0, epsilon)\n",
        "print(f\"Метода Ньютона с постоянной производной: Корень: {root}, Итерации: {iterations}\")"
      ]
    },
    {
      "cell_type": "markdown",
      "metadata": {
        "id": "mbidzaj4H36l"
      },
      "source": [
        "Метод Ньютона"
      ]
    },
    {
      "cell_type": "code",
      "execution_count": 10,
      "metadata": {
        "id": "8-I9GowqHUIa"
      },
      "outputs": [],
      "source": [
        "def newton_method(x0, eps):\n",
        "    xk = x0\n",
        "    k = 0\n",
        "\n",
        "    while True:\n",
        "        xk1 = xk - f(xk) / df(xk)\n",
        "        k += 1\n",
        "\n",
        "        res.append((k, xk, abs(xk1 - xk)))\n",
        "\n",
        "        if xk1 < -1:\n",
        "            raise ValueError(\"x is less then -1\")\n",
        "\n",
        "        if abs(xk1 - xk) < eps:\n",
        "            return xk1, k\n",
        "\n",
        "        xk = xk1"
      ]
    },
    {
      "cell_type": "code",
      "execution_count": 11,
      "metadata": {
        "colab": {
          "base_uri": "https://localhost:8080/"
        },
        "id": "WRm0qU9lIdIK",
        "outputId": "17fc8ed0-c880-45b7-ac0c-7c9e004e9a55"
      },
      "outputs": [
        {
          "name": "stdout",
          "output_type": "stream",
          "text": [
            "Метод Ньютона: Корень = -0.29969127186757155, Итерации = 5\n"
          ]
        }
      ],
      "source": [
        "x0 = -1\n",
        "epsilon = 1e-7\n",
        "\n",
        "root_newton, iterations_newton = newton_method(x0, epsilon)\n",
        "print(f\"Метод Ньютона: Корень = {root_newton}, Итерации = {iterations_newton}\")"
      ]
    },
    {
      "cell_type": "markdown",
      "metadata": {
        "id": "Kaz4jPRPIstl"
      },
      "source": [
        "Метод секущих"
      ]
    },
    {
      "cell_type": "code",
      "execution_count": 12,
      "metadata": {
        "id": "SzLNer-yIvFX"
      },
      "outputs": [],
      "source": [
        "def secant_method(x0, x1, eps):\n",
        "    xk = x0\n",
        "    xk1 = x1\n",
        "    k = 0\n",
        "\n",
        "    while True:\n",
        "        if f(xk1) - f(xk) == 0:\n",
        "            raise ValueError(\"Деление на ноль при методе секущих\")\n",
        "\n",
        "        xk2 = xk1 - f(xk1) * (xk1 - xk) / (f(xk1) - f(xk))\n",
        "        k += 1\n",
        "        res.append((k, xk1, abs(xk2 - xk1)))\n",
        "\n",
        "        if abs(xk2 - xk1) < eps:\n",
        "            return xk2, k, data\n",
        "\n",
        "        xk, xk1 = xk1, xk2\n"
      ]
    },
    {
      "cell_type": "code",
      "execution_count": 13,
      "metadata": {
        "colab": {
          "base_uri": "https://localhost:8080/"
        },
        "id": "pVTjQsD8JnXd",
        "outputId": "ebbd6eca-3929-421c-c22b-c2e139982675"
      },
      "outputs": [
        {
          "name": "stdout",
          "output_type": "stream",
          "text": [
            "Метод секущих: Корень = -0.2996912718675822, Итерации = 5\n"
          ]
        }
      ],
      "source": [
        "x0 = -1\n",
        "x1 = -0.5\n",
        "\n",
        "root_secant, iterations_secant, data = secant_method(x0, x1, epsilon)\n",
        "print(f\"Метод секущих: Корень = {root_secant}, Итерации = {iterations_secant}\")"
      ]
    },
    {
      "cell_type": "code",
      "execution_count": 14,
      "metadata": {
        "colab": {
          "base_uri": "https://localhost:8080/"
        },
        "id": "28Huc6czM3eu",
        "outputId": "ab402cb2-6dde-4edd-eaa0-5498ccc67f4d"
      },
      "outputs": [
        {
          "name": "stdout",
          "output_type": "stream",
          "text": [
            "      М Н с постоянной производной  Метод Ньютона                Метод секущих\n",
            "k     x_k        |x_k - x_{k-1}|    x_k        |x_k - x_{k-1}|   x_k        |x_k - x_{k-1}|\n",
            "1     -1.000000  0.6499304          -1.000000  0.6499304         -0.500000  0.1787017 \n",
            "2     -0.350070  0.0412936          -0.350070  0.0495916         -0.321298  0.0204169 \n",
            "3     -0.308776  0.0073465          -0.300478  0.0007865         -0.300881  0.0011815 \n",
            "4     -0.301429  0.0014021          -0.299691  0.0000002         -0.299700  0.0000087 \n",
            "7     -0.299704  0.0000102         \n",
            "8     -0.299694  0.0000020         \n",
            "9     -0.299692  0.0000004         \n",
            "10    -0.299691  0.0000001         \n"
          ]
        }
      ],
      "source": [
        "print(f\"{' ':<5} {'М Н с постоянной производной ':<10} {'Метод Ньютона':<28} {'Метод секущих':<10}\")\n",
        "print(f\"{'k':<5} {'x_k':<10} {'|x_k - x_{k-1}|':<18} {'x_k':<10} {'|x_k - x_{k-1}|':<17} {'x_k':<10} {'|x_k - x_{k-1}|':<10}\")\n",
        "for i in range(4):\n",
        "    print(f\"{res[i][0]:<5} {res[i][1]:<10.6f} {res[i][2]:<18.7f} {res[i + 10][1]:<10.6f} {res[i + 10][2]:<17.7f} {res[i + 15][1]:<10.6f} {res[i + 15][2]:<10.7f}\")\n",
        "\n",
        "\n",
        "\n",
        "for i in range(6, 10):\n",
        "    print(f\"{res[i][0]:<5} {res[i][1]:<10.6f} {res[i][2]:<18.7f}\")"
      ]
    }
  ],
  "metadata": {
    "colab": {
      "provenance": []
    },
    "kernelspec": {
      "display_name": "Python 3",
      "name": "python3"
    },
    "language_info": {
      "codemirror_mode": {
        "name": "ipython",
        "version": 3
      },
      "file_extension": ".py",
      "mimetype": "text/x-python",
      "name": "python",
      "nbconvert_exporter": "python",
      "pygments_lexer": "ipython3",
      "version": "3.13.2"
    }
  },
  "nbformat": 4,
  "nbformat_minor": 0
}
