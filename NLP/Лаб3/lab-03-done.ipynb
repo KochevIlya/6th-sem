{
 "cells": [
  {
   "cell_type": "code",
   "execution_count": 66,
   "metadata": {
    "collapsed": false
   },
   "outputs": [],
   "source": [
    "import numpy as np\n",
    "import cv2\n",
    "from matplotlib import pyplot as plt\n",
    "from scipy.ndimage import binary_erosion"
   ]
  },
  {
   "cell_type": "code",
   "execution_count": 67,
   "metadata": {
    "collapsed": false
   },
   "outputs": [],
   "source": [
    "def show_images(images, columns=2, figsize=(10, 10)):\n",
    "    \n",
    "    if isinstance(images, np.ndarray):\n",
    "        images = [images]\n",
    "    rows = (len(images) + columns - 1) // columns\n",
    "    fig, axes = plt.subplots(rows, columns, figsize=figsize)\n",
    "    axes = np.array(axes).flatten()\n",
    "    for i, img in enumerate(images):\n",
    "        axes[i].imshow(img, cmap='gray', interpolation='none')\n",
    "        axes[i].axis('off')\n",
    "    for i in range(len(images), len(axes)):\n",
    "        axes[i].axis('off')\n",
    "    plt.tight_layout()\n",
    "    plt.show()"
   ]
  },
  {
   "cell_type": "code",
   "execution_count": 68,
   "metadata": {
    "collapsed": false
   },
   "outputs": [],
   "source": [
    "image_path = 'tree.png'\n",
    "original_image = cv2.imread(image_path, cv2.IMREAD_GRAYSCALE)\n",
    "binary_image = original_image > 127 "
   ]
  },
  {
   "cell_type": "code",
   "execution_count": 69,
   "metadata": {},
   "outputs": [
    {
     "data": {
      "image/png": "[encoded data removed]",
      "text/plain": [
       "<Figure size 300x300 with 1 Axes>"
      ]
     },
     "metadata": {},
     "output_type": "display_data"
    }
   ],
   "source": [
    "show_images(binary_image, columns=1, figsize=(3, 3))"
   ]
  },
  {
   "cell_type": "code",
   "execution_count": 70,
   "metadata": {
    "collapsed": false
   },
   "outputs": [],
   "source": [
    "def generate_structures():\n",
    "    base = np.zeros(8, dtype=bool)\n",
    "    base[:4] = True\n",
    "    order = [0, 1, 2, 7, 8, 3, 6, 5, 4]\n",
    "    struct_hit = np.array([\n",
    "        np.concatenate((np.roll(base, shift), [False]))[order].reshape((3, 3))\n",
    "        for shift in range(8)\n",
    "    ])\n",
    "    struct_miss = np.zeros((3, 3), dtype=bool)\n",
    "    struct_miss[1, 1] = True\n",
    "    return struct_hit, struct_miss\n",
    "\n",
    "def morphological_expansion(image, hit, miss):\n",
    "    erosion_hit = binary_erosion(image, hit)\n",
    "    erosion_miss = binary_erosion(~image, miss)\n",
    "    return image | (erosion_hit & erosion_miss)\n",
    "\n",
    "def thickening_iteration(image, struct_hit, struct_miss):\n",
    "    for hit in struct_hit:\n",
    "        image = morphological_expansion(image, hit, struct_miss)\n",
    "    return image\n",
    "\n",
    "def convexize(image):\n",
    "    struct_hit, struct_miss = generate_structures()\n",
    "    while True:\n",
    "        new_image = thickening_iteration(image, struct_hit, struct_miss)\n",
    "        if np.array_equal(new_image, image):\n",
    "            break\n",
    "        image = new_image\n",
    "    return image"
   ]
  },
  {
   "cell_type": "code",
   "execution_count": 71,
   "metadata": {
    "collapsed": false
   },
   "outputs": [
    {
     "data": {
      "image/png": "[encoded data removed]",
      "text/plain": [
       "<Figure size 300x300 with 1 Axes>"
      ]
     },
     "metadata": {},
     "output_type": "display_data"
    }
   ],
   "source": [
    "show_images(convexize(binary_image), figsize=(3,3), columns=1)"
   ]
  }
 ],
 "metadata": {
  "kernelspec": {
   "display_name": "Python 3",
   "language": "python",
   "name": "python3"
  },
  "language_info": {
   "codemirror_mode": {
    "name": "ipython",
    "version": 3
   },
   "file_extension": ".py",
   "mimetype": "text/x-python",
   "name": "python",
   "nbconvert_exporter": "python",
   "pygments_lexer": "ipython3",
   "version": "3.13.2"
  }
 },
 "nbformat": 4,
 "nbformat_minor": 1
}
