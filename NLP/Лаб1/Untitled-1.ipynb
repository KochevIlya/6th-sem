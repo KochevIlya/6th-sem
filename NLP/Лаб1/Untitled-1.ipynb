{
 "cells": [
  {
   "cell_type": "markdown",
   "metadata": {},
   "source": [
    "# Импорт необходимых библиотек"
   ]
  },
  {
   "cell_type": "code",
   "execution_count": null,
   "metadata": {},
   "outputs": [],
   "source": [
    "\n",
    "import cv2\n",
    "import numpy as np\n",
    "import matplotlib.pyplot as plt\n"
   ]
  },
  {
   "cell_type": "code",
   "execution_count": null,
   "metadata": {},
   "outputs": [],
   "source": [
    "def morphological_skeleton(binary_image, structuring_element):\n",
    "    skeleton = np.zeros_like(binary_image)  # Пустое изображение для скелета\n",
    "    temp = np.zeros_like(binary_image)  # Временное изображение\n",
    "    eroded = binary_image.copy()  # Начинаем с исходного изображения\n",
    "    \n",
    "    while True:\n",
    "        eroded = cv2.erode(eroded, structuring_element)\n",
    "        opened = cv2.dilate(eroded, structuring_element)\n",
    "        temp = cv2.subtract(eroded, opened)\n",
    "        skeleton = cv2.bitwise_or(skeleton, temp)\n",
    "        if cv2.countNonZero(eroded) == 0:\n",
    "            break\n",
    "    \n",
    "    return skeleton"
   ]
  },
  {
   "cell_type": "code",
   "execution_count": null,
   "metadata": {},
   "outputs": [],
   "source": [
    "\n",
    "# Функция для построения морфологического скелета\n",
    "def morphological_skeleton(binary_image, structuring_element):\n",
    "    skeleton = np.zeros_like(binary_image)  # Пустое изображение для скелета\n",
    "    temp = np.zeros_like(binary_image)  # Временное изображение\n",
    "    eroded = binary_image.copy()  # Начинаем с исходного изображения\n",
    "    \n",
    "    while True:\n",
    "        # Морфологическое сужение (erosion)\n",
    "        eroded = cv2.erode(eroded, structuring_element)\n",
    "        # Морфологическое расширение (dilation) после erosion\n",
    "        opened = cv2.dilate(eroded, structuring_element)\n",
    "        # Разница между текущим eroded и opened\n",
    "        temp = cv2.subtract(eroded, opened)\n",
    "        # Добавляем результат в скелет\n",
    "        skeleton = cv2.bitwise_or(skeleton, temp)\n",
    "        # Если изображение полностью исчезло, выходим из цикла\n",
    "        if cv2.countNonZero(eroded) == 0:\n",
    "            break\n",
    "    \n",
    "    return skeleton\n",
    "\n",
    "# Функция восстановления изображения по морфологическому скелету\n",
    "def reconstruct_image(skeleton, structuring_element):\n",
    "    reconstructed = np.zeros_like(skeleton)\n",
    "    for i in range(skeleton.max()):  # Цикл по итерациям\n",
    "        dilated = cv2.dilate(skeleton, structuring_element, iterations=i)\n",
    "        reconstructed = cv2.bitwise_or(reconstructed, dilated)\n",
    "    return reconstructed\n",
    "\n",
    "# Загрузка бинарного изображения (чёрно-белое изображение)\n",
    "image_path = 'binary_image.png'  # Укажите путь к вашему изображению\n",
    "original_image = cv2.imread(image_path, cv2.IMREAD_GRAYSCALE)\n",
    "\n",
    "# Преобразовываем изображение в бинарное (чёрно-белое)\n",
    "_, binary_image = cv2.threshold(original_image, 127, 255, cv2.THRESH_BINARY)\n",
    "\n",
    "# Определяем структурирующий элемент\n",
    "structuring_element = cv2.getStructuringElement(cv2.MORPH_CROSS, (3, 3))  # Крестовидный элемент\n",
    "\n",
    "# Построение морфологического скелета\n",
    "skeleton = morphological_skeleton(binary_image, structuring_element)\n",
    "\n",
    "# Восстановление изображения по скелету\n",
    "reconstructed_image = reconstruct_image(skeleton, structuring_element)\n",
    "\n",
    "# Отображение результатов\n",
    "plt.figure(figsize=(12, 6))\n",
    "plt.subplot(1, 3, 1)\n",
    "plt.title('Исходное изображение')\n",
    "plt.imshow(binary_image, cmap='gray')\n",
    "plt.axis('off')\n",
    "\n",
    "plt.subplot(1, 3, 2)\n",
    "plt.title('Морфологический скелет')\n",
    "plt.imshow(skeleton, cmap='gray')\n",
    "plt.axis('off')\n",
    "\n",
    "plt.subplot(1, 3, 3)\n",
    "plt.title('Восстановленное изображение')\n",
    "plt.imshow(reconstructed_image, cmap='gray')\n",
    "plt.axis('off')\n",
    "\n",
    "plt.tight_layout()\n",
    "plt.show()"
   ]
  },
  {
   "cell_type": "markdown",
   "metadata": {},
   "source": []
  }
 ],
 "metadata": {
  "kernelspec": {
   "display_name": "Python 3",
   "language": "python",
   "name": "python3"
  },
  "language_info": {
   "name": "python",
   "version": "3.13.2"
  }
 },
 "nbformat": 4,
 "nbformat_minor": 2
}
